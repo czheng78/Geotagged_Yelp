{
 "cells": [
  {
   "cell_type": "code",
   "execution_count": 1,
   "metadata": {},
   "outputs": [
    {
     "ename": "FileNotFoundError",
     "evalue": "[Errno 2] No such file or directory: './business.json'",
     "output_type": "error",
     "traceback": [
      "\u001b[0;31m---------------------------------------------------------------------------\u001b[0m",
      "\u001b[0;31mFileNotFoundError\u001b[0m                         Traceback (most recent call last)",
      "\u001b[0;32m<ipython-input-1-4f247add19c7>\u001b[0m in \u001b[0;36m<module>\u001b[0;34m()\u001b[0m\n\u001b[1;32m      5\u001b[0m \u001b[0;34m\u001b[0m\u001b[0m\n\u001b[1;32m      6\u001b[0m \u001b[0mfullcate\u001b[0m \u001b[0;34m=\u001b[0m \u001b[0;34m[\u001b[0m\u001b[0;34m]\u001b[0m\u001b[0;34m\u001b[0m\u001b[0m\n\u001b[0;32m----> 7\u001b[0;31m \u001b[0mfile\u001b[0m \u001b[0;34m=\u001b[0m \u001b[0mopen\u001b[0m\u001b[0;34m(\u001b[0m\u001b[0;34m\"./business.json\"\u001b[0m\u001b[0;34m,\u001b[0m\u001b[0;34m'r'\u001b[0m\u001b[0;34m)\u001b[0m\u001b[0;34m\u001b[0m\u001b[0m\n\u001b[0m\u001b[1;32m      8\u001b[0m \u001b[0mcontent\u001b[0m \u001b[0;34m=\u001b[0m \u001b[0;34m[\u001b[0m\u001b[0;34m]\u001b[0m\u001b[0;34m\u001b[0m\u001b[0m\n\u001b[1;32m      9\u001b[0m \u001b[0;32mfor\u001b[0m \u001b[0mline\u001b[0m \u001b[0;32min\u001b[0m \u001b[0mfile\u001b[0m\u001b[0;34m:\u001b[0m\u001b[0;34m\u001b[0m\u001b[0m\n",
      "\u001b[0;31mFileNotFoundError\u001b[0m: [Errno 2] No such file or directory: './business.json'"
     ]
    }
   ],
   "source": [
    "import json\n",
    "\n",
    "cate = ['Mexican', 'Fast Food', 'Pizza', 'American (Traditional)', 'Sandwiches', \n",
    "        'Breakfast & Brunch', 'Chinese', 'Italian']\n",
    "\n",
    "fullcate = []\n",
    "file = open(\"./business.json\",'r')\n",
    "content = []\n",
    "for line in file:\n",
    "    content.append(json.loads(line))\n",
    "\n",
    "for item in content:\n",
    "    if(item[\"city\"] == \"Las Vegas\"):\n",
    "        if((item['categories'] not in fullcate)&('Restaurants' in item['categories'])):\n",
    "            fullcate.append(item['categories'])\n",
    "#         if any(j in cate for j in item['categories']):\n",
    "#             data.append(item)\n",
    "# print(data[0])\n",
    "# print(len(data))\n",
    "print(len(fullcate))\n"
   ]
  },
  {
   "cell_type": "code",
   "execution_count": null,
   "metadata": {},
   "outputs": [],
   "source": [
    "uniquecate = []\n",
    "for i in range(len(fullcate)):\n",
    "    for item in fullcate[i]:\n",
    "        if item not in uniquecate:\n",
    "            uniquecate.append(item)\n",
    "print(len(uniquecate))\n",
    "print(uniquecate)\n",
    "#['Mexican', 'Fast Food', 'Pizza','American (Traditional)', \n",
    "#'Sandwiches', 'Breakfast & Brunch', 'Chinese', 'Italian'\n",
    "#'Cafes', 'Sandwiches', 'Sandwiches', 'Bars',\n",
    "#'Chicken Wings', 'Hot Dogs', 'Burgers', 'Seafood'\n",
    "#'Jazz & Blues','Korean', 'Donuts', 'Hot Pot']"
   ]
  },
  {
   "cell_type": "code",
   "execution_count": null,
   "metadata": {},
   "outputs": [],
   "source": [
    "data = []\n",
    "for item in content:\n",
    "    if(item[\"city\"] == \"Las Vegas\"):\n",
    "        if any(label in uniquecate for label in item['categories'])&('Restaurants' in item['categories']):\n",
    "            data.append(item)\n",
    "print(\"there are\", len(data), \"restaurants in Las Vegas.\")\n",
    "print(data[0])"
   ]
  },
  {
   "cell_type": "code",
   "execution_count": null,
   "metadata": {},
   "outputs": [],
   "source": [
    "ll = []\n",
    "for row in data:\n",
    "    temp = []\n",
    "    temp.append(row['latitude'])\n",
    "    temp.append(row['longitude'])\n",
    "    ll.append(temp)\n",
    "print(ll[0])"
   ]
  },
  {
   "cell_type": "markdown",
   "metadata": {},
   "source": [
    "## K-means++"
   ]
  },
  {
   "cell_type": "code",
   "execution_count": null,
   "metadata": {},
   "outputs": [],
   "source": [
    "import numpy as np\n",
    "import matplotlib.pyplot as plt\n",
    "import sklearn.metrics as metrics\n",
    "import seaborn as sns\n",
    "%matplotlib inline"
   ]
  },
  {
   "cell_type": "code",
   "execution_count": null,
   "metadata": {},
   "outputs": [],
   "source": [
    "X = np.asarray(ll)\n",
    "plt.figure(figsize = (5,8))\n",
    "_ = plt.scatter(X[:,0],X[:,1],s = 2)\n",
    "plt.plot([36.114647], [-115.172813], marker=\"x\", markersize=20, color=\"black\", label=\"downtown\")"
   ]
  },
  {
   "cell_type": "code",
   "execution_count": null,
   "metadata": {},
   "outputs": [],
   "source": [
    "from sklearn.cluster import KMeans\n",
    "k=8\n",
    "kmeans = KMeans(n_clusters=k, init='k-means++', max_iter=100, n_init=1)\n",
    "labels = kmeans.fit_predict(X)\n",
    "print(len(labels))"
   ]
  },
  {
   "cell_type": "code",
   "execution_count": null,
   "metadata": {},
   "outputs": [],
   "source": [
    "colors = [['blue', 'green', 'red', 'cyan', 'magenta', 'yellow', 'black', 'pink'][p] for p in labels]\n",
    "plt.figure(figsize = (5, 8))\n",
    "plt.scatter(X[:, 0], X[:, 1], color = colors, s = 5)\n",
    "plt.title('kmeans++ clustering')\n",
    "plt.xlabel('latitude')\n",
    "plt.ylabel('longitude')"
   ]
  },
  {
   "cell_type": "code",
   "execution_count": null,
   "metadata": {},
   "outputs": [],
   "source": [
    "average_rate = {}\n",
    "colorname = ['blue', 'green', 'red', 'cyan', 'magenta', 'yellow', 'black', 'pink']\n",
    "for c in range(8):\n",
    "    rate_sum = 0\n",
    "    rest_count = 0\n",
    "    for i in range(len(labels)):\n",
    "        if(labels[i]==c):\n",
    "            rate_sum = rate_sum + data[i]['stars']\n",
    "            rest_count +=1\n",
    "            average_rate[colorname[c]] = rate_sum/rest_count\n",
    "            \n",
    "print(average_rate)"
   ]
  },
  {
   "cell_type": "code",
   "execution_count": null,
   "metadata": {},
   "outputs": [],
   "source": [
    "best = []\n",
    "bestll = []\n",
    "worst = []\n",
    "worstll = []\n",
    "\n",
    "for item in data:\n",
    "    temp = []\n",
    "    if(item['stars']>=4.9):\n",
    "        best.append(item)\n",
    "        temp.append(item['latitude'])\n",
    "        temp.append(item['longitude'])\n",
    "        bestll.append(temp)\n",
    "        \n",
    "\n",
    "for item in data:\n",
    "    temp = []\n",
    "    if(item['stars']<=2.0):\n",
    "        worst.append(item)\n",
    "        temp.append(item['latitude'])\n",
    "        temp.append(item['longitude'])\n",
    "        worstll.append(temp)\n",
    "\n",
    "\n",
    "print(len(bestll))\n",
    "X = np.asarray(bestll)\n",
    "Y = np.asarray(worstll)\n",
    "plt.figure(figsize = (5,8))\n",
    "_ = plt.scatter(X[:,0], X[:,1], color = 'r', s = 2)\n",
    "_ = plt.scatter(Y[:,0], Y[:,1], color = 'b', s = 2)\n",
    "\n",
    "plt.plot([36.114647], [-115.172813], marker=\"x\", markersize=20, color=\"black\", label = \"downtown\")\n",
    "plt.text(36.114647, -115.182813,r'downtown')"
   ]
  },
  {
   "cell_type": "code",
   "execution_count": null,
   "metadata": {},
   "outputs": [],
   "source": [
    "rev = open(\"./review.json\",'r')\n",
    "cont = []\n",
    "for line in rev:\n",
    "    cont.append(json.loads(line))"
   ]
  },
  {
   "cell_type": "code",
   "execution_count": null,
   "metadata": {},
   "outputs": [],
   "source": [
    "dat = "
   ]
  },
  {
   "cell_type": "code",
   "execution_count": null,
   "metadata": {},
   "outputs": [],
   "source": []
  }
 ],
 "metadata": {
  "kernelspec": {
   "display_name": "Python 3",
   "language": "python",
   "name": "python3"
  },
  "language_info": {
   "codemirror_mode": {
    "name": "ipython",
    "version": 3
   },
   "file_extension": ".py",
   "mimetype": "text/x-python",
   "name": "python",
   "nbconvert_exporter": "python",
   "pygments_lexer": "ipython3",
   "version": "3.6.1"
  }
 },
 "nbformat": 4,
 "nbformat_minor": 2
}
